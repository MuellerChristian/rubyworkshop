{
 "cells": [
  {
   "cell_type": "markdown",
   "id": "fc3b53d7-99fd-4c7f-914c-6ab996fa6cfd",
   "metadata": {},
   "source": [
    "# Ruby Workshop\n",
    "\n",
    "Hochschule Mannheim\n",
    "\n",
    "mybinder Link: https://notebooks.gesis.org/binder/jupyter/user/otiofrui-rubyworkshop-djvufxdz/lab\n"
   ]
  },
  {
   "cell_type": "markdown",
   "id": "a8f1a72c-dd2a-4fd3-82bf-dc8f7ce9c820",
   "metadata": {},
   "source": [
    "## Einleitung\n",
    "Viele der folgenden Dinge sind sehr ähnlich zu anderen Programmiersprachen, dennoch weißt Ruby einige Besonderheiten auf, die wir hier besonders hervorheben wollen."
   ]
  }
 ],
 "metadata": {
  "kernelspec": {
   "display_name": "Ruby 2.7.0",
   "language": "ruby",
   "name": "ruby"
  },
  "language_info": {
   "file_extension": ".rb",
   "mimetype": "application/x-ruby",
   "name": "ruby",
   "version": "2.7.0"
  }
 },
 "nbformat": 4,
 "nbformat_minor": 5
}
