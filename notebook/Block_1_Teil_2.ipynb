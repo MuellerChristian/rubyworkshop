{
 "cells": [
  {
   "cell_type": "markdown",
   "metadata": {},
   "source": [
    "# Themenblock 1 - Teil 2\n",
    "\n",
    "## Fallunterscheidungen\n",
    "\n",
    "### Das Wichtigste zusammengefasst\n",
    "\n",
    "* immer true, außer: false, nil\n",
    "* Zeilenumbruch, Semikolon oder Schlüsselwort then\n",
    "* Alles ist ein Ausdruck (Rückgabewert)\n",
    "* Auch mit case möglich\n",
    "* Anstatt elseif → when\n",
    "* Modifier: Code if Ausdruck\n",
    "* unless, das Gegenteil von if ohne elseif\n",
    "* ? Operator\n",
    "\n",
    "### Code Beispiele"
   ]
  },
  {
   "cell_type": "code",
   "execution_count": null,
   "metadata": {},
   "outputs": [],
   "source": [
    "# if, elseif, else Beispiel Zahl\n",
    "x = 3\n",
    "if x == 1\n",
    "    name = \"eins\"\n",
    "elsif x == 2\n",
    "    name = \"zwei\"\n",
    "elsif x == 3 then name = \"drei\"\n",
    "elsif x == 4; name = \"vier\"\n",
    "else\n",
    "    name = \"viele\"\n",
    "end "
   ]
  },
  {
   "cell_type": "code",
   "execution_count": null,
   "metadata": {},
   "outputs": [],
   "source": [
    "# if/else Modifier Beispiel Zahl\n",
    "name = if    x == 1 then \"eins\"\n",
    "       elsif x == 2 then \"zwei\"\n",
    "       elsif x == 3 then \"drei\"\n",
    "       elsif x == 4 then \"vier\"\n",
    "       else              \"viele\"\n",
    "       end"
   ]
  },
  {
   "cell_type": "code",
   "execution_count": null,
   "metadata": {},
   "outputs": [],
   "source": [
    "# case Modifier Beispiel Zahl\n",
    "name = case\n",
    "       when x == 1 then \"eins\"\n",
    "       when x == 2 then \"zwei\"\n",
    "       when x == 3 then \"drei\"\n",
    "       when x == 4 then \"vier\"\n",
    "       else             \"viele\"\n",
    "       end"
   ]
  },
  {
   "cell_type": "code",
   "execution_count": null,
   "metadata": {},
   "outputs": [],
   "source": [
    "# unless Beispiel Altersabfrage\n",
    "alter = 18\n",
    "\n",
    "unless alter >= 18\n",
    "    puts \"Nicht alt genug.\"\n",
    "end\n",
    "\n",
    "unless alter >= 18\n",
    "    puts \"Nicht alt genug.\"\n",
    "else\n",
    "    puts \"Alt genug.\"\n",
    "end\n",
    "\n",
    "puts \"Nicht alt genug.\" unless alter >= 18"
   ]
  },
  {
   "cell_type": "code",
   "execution_count": null,
   "metadata": {},
   "outputs": [],
   "source": [
    "# ? Operator Beispiel Anrufsbeantworter\n",
    "def how_many_messages(n)\n",
    "   \"Sie haben \" + n.to_s + (n==1 ? \" Nachricht.\" : \" Nachrichten.\")\n",
    "end\n",
    "\n",
    "how_many_messages(1)"
   ]
  },
  {
   "cell_type": "markdown",
   "metadata": {},
   "source": [
    "## Iteratoren und Enumeratoren\n",
    "\n",
    "### Das Wichtigste zusammengefasst\n",
    "\n",
    "* loop → Vorsicht endlos!!\n",
    "* Iteratoren, die nicht iterieren z. B. tab und File.open\n",
    "* m.upto(n), m.downto(n)\n",
    "* n.times → äquivalent zu 0.upto(n-1)\n",
    "* step(n, m)\n",
    "* .each\n",
    "* collect/map, select, reject und inject\n",
    "* Benutzerdefiniert mit yield\n",
    "\n",
    "### Code Beispiele"
   ]
  },
  {
   "cell_type": "code",
   "execution_count": null,
   "metadata": {},
   "outputs": [],
   "source": [
    "# while Schleife Beispiel Punktzahl\n",
    "erreichte_Punkte = 25\n",
    "min_Punkte = 30\n",
    "while erreichte_Punkte < min_Punkte do\n",
    "    puts \"Die zum bestehen notwendige Punktzahl ist noch nicht erreicht!\"\n",
    "    erreichte_Punkte += 1\n",
    "end"
   ]
  },
  {
   "cell_type": "code",
   "execution_count": null,
   "metadata": {},
   "outputs": [],
   "source": [
    "# until Schleife Beispiel Array leeren\n",
    "a = [1,2,3]\n",
    "puts \"#{a}\\n\"\n",
    "puts a.pop until a.empty?\n",
    "puts \"#{a}\\n\""
   ]
  },
  {
   "cell_type": "code",
   "execution_count": null,
   "metadata": {},
   "outputs": [],
   "source": [
    "# for Schleife Beispiel Wert der Variable\n",
    "for i in 0..5\n",
    "    puts \"Wert der lokalen Variable: #{i}\"\n",
    " end"
   ]
  },
  {
   "cell_type": "code",
   "execution_count": null,
   "metadata": {},
   "outputs": [],
   "source": [
    "# .each Beispiel mit Hash\n",
    "hash = {:a=>1, :b=>2, :c=>3}\n",
    "\n",
    "hash.each do |key,value|\n",
    "    puts \"#{key} => #{value}\"\n",
    "end"
   ]
  },
  {
   "cell_type": "markdown",
   "metadata": {},
   "source": [
    "**Weitere Details und Beispiele mit Enumeratoren:**"
   ]
  },
  {
   "cell_type": "code",
   "execution_count": null,
   "metadata": {},
   "outputs": [],
   "source": [
    "# Enumeratoren erstellen\n",
    "s = \"Hallo,\\nWie geht es dir?\\n\"\n",
    "\n",
    "s.to_enum(:each_line).each {|l| puts l}\n",
    "s.enum_for(:each_line).each {|l| puts l}"
   ]
  },
  {
   "cell_type": "code",
   "execution_count": null,
   "metadata": {},
   "outputs": [],
   "source": [
    "# Methoden mit einem Enumerator anstatt dem veränderlichen Array aufrufen\n",
    "data = \"hallo\"\n",
    "\n",
    "def process(s)\n",
    "    s.map {|c| c.succ }\n",
    "end\n",
    "\n",
    "process(data.each_char)"
   ]
  },
  {
   "cell_type": "code",
   "execution_count": null,
   "metadata": {},
   "outputs": [],
   "source": [
    "# numerische Iteratoren wie times, upto usw. geben einen Enumerator zurück\n",
    "data.chars.map {|c| c.succ}"
   ]
  },
  {
   "cell_type": "code",
   "execution_count": null,
   "metadata": {},
   "outputs": [],
   "source": [
    "# Konkurrierende Modifikation verhindern mit privater Kopie (.dup)\n",
    "process(data.dup.each_char)"
   ]
  },
  {
   "cell_type": "code",
   "execution_count": null,
   "metadata": {},
   "outputs": [],
   "source": [
    "# Externe Iteratoren\n",
    "iterator = 9.downto(1) \n",
    "begin\n",
    "    print iterator.next while true\n",
    "    rescue StopIteration # kann auch weggelassen werden\n",
    "    puts \"... Abflug!\"\n",
    "end"
   ]
  },
  {
   "cell_type": "markdown",
   "metadata": {},
   "source": [
    "## Blöcke\n",
    "\n",
    "### Das Wichtigste zusammengefasst\n",
    "\n",
    "* {} oder do/end → Blöcke können parametrisiert werden\n",
    "* Syntaxfehler bei Zeilenumbruch\n",
    "* next anstatt return oder besser nur if/else\n",
    "* Variablen innerhalb vs. außerhalb\n",
    "* Argumente an Block übergeben\n",
    "\n",
    "### Code Beispiele"
   ]
  },
  {
   "cell_type": "code",
   "execution_count": null,
   "metadata": {},
   "outputs": [],
   "source": [
    "# Beispiel Parametrisierung mit upto {}\n",
    "1.upto(10) {|x| puts x }"
   ]
  },
  {
   "cell_type": "code",
   "execution_count": null,
   "metadata": {},
   "outputs": [],
   "source": [
    "# Beispiel Parametrisierung mit upto do/end\n",
    "1.upto(10) do |x|\n",
    "    puts x\n",
    "end"
   ]
  },
  {
   "cell_type": "code",
   "execution_count": null,
   "metadata": {},
   "outputs": [],
   "source": [
    "# Beispiel next\n",
    "array = [4,5,6,7,2]\n",
    "array.collect do |x|\n",
    "    next 0 if x == nil\n",
    "    next x, x*x\n",
    "end   "
   ]
  },
  {
   "cell_type": "markdown",
   "metadata": {},
   "source": [
    "## Steuerungsablauf (flow-of-control)\n",
    "\n",
    "### Das Wichtigste zusammengefasst\n",
    "\n",
    "* return → Methode beenden und Wert zurückgeben\n",
    "* break → beenden einer Schleife/Iterator\n",
    "* next → überspringen der aktuellen Iteration und nächste\n",
    "* redo → Startet Schleife/Iterator am Anfang neu\n",
    "* retry → Startet Iterator neu (gesamter Ausdruck)\n",
    "* throw/catch → Mehrstufiges break → raise/rescue\n",
    "\n",
    "### Code Beispiele"
   ]
  },
  {
   "cell_type": "code",
   "execution_count": null,
   "metadata": {},
   "outputs": [],
   "source": [
    "# Zwei Kopien von x liefern, falls x nicht nil ist\n",
    "def two_copies(x)\n",
    "    return nil if x == nil\n",
    "    return x, x.dup\n",
    "end\n",
    "\n",
    "two_copies(5)"
   ]
  },
  {
   "cell_type": "code",
   "execution_count": null,
   "metadata": {},
   "outputs": [],
   "source": [
    "# break Beispiel \n",
    "woerter = [\"und\", \"zum\", \"bis\", \"wann\", \"wo\", \"mitte\", \"hier\", \"geht\", \"es\", \"weiter\"]\n",
    "\n",
    "woerter.each do |w|\n",
    "    break if w == \"mitte\"\n",
    "    puts w\n",
    "end"
   ]
  },
  {
   "cell_type": "code",
   "execution_count": null,
   "metadata": {},
   "outputs": [],
   "source": [
    "# next Beispiel\n",
    "a = [1, 2, 3]\n",
    "\n",
    "a.each do |num|\n",
    "    next if num < 2\n",
    "    puts num\n",
    "end"
   ]
  },
  {
   "cell_type": "code",
   "execution_count": null,
   "metadata": {},
   "outputs": [],
   "source": [
    "# redo Beispiel\n",
    "\n",
    "i = 0\n",
    "while(i < 3)\n",
    "  # Kontrolle geht bei redo wieder hierhin\n",
    "  print i\n",
    "  i += 1\n",
    "  redo if i == 3\n",
    "end"
   ]
  },
  {
   "cell_type": "code",
   "execution_count": null,
   "metadata": {},
   "outputs": [],
   "source": [
    "# retry Beispiel\n",
    "\n",
    "# tbd"
   ]
  },
  {
   "cell_type": "code",
   "execution_count": null,
   "metadata": {},
   "outputs": [],
   "source": [
    "# throw/catch Beispiel\n",
    "\n",
    "# tbd"
   ]
  },
  {
   "cell_type": "markdown",
   "metadata": {},
   "source": [
    "## Ausnahmen/Exceptions\n",
    "\n",
    "### Das Wichtigste zusammengefasst\n",
    "\n",
    "* Klasse Exception bestehend aus message und backtrace\n",
    "* Erzeugen von Ausnahmeobjekten mit raise\n",
    "* raise nimmt ein Argument als string der message ersetzt\n",
    "* Definition eigener Unterklasse von StandardError\n",
    "\n",
    "### Code Beispiele"
   ]
  },
  {
   "cell_type": "code",
   "execution_count": null,
   "metadata": {},
   "outputs": [],
   "source": [
    "# Beispiel durch Null teilen\n",
    "def teilen(x, y)\n",
    "    raise \"Durch Null teilen geht nicht!\" if x == 0 || y == 0\n",
    "    x/y\n",
    "\n",
    "end\n",
    "\n",
    "teilen(2.5, 0)"
   ]
  },
  {
   "cell_type": "code",
   "execution_count": null,
   "metadata": {},
   "outputs": [],
   "source": [
    "# Neue Ausnahmeklassen definieren\n",
    "class MyError < StandardError; end"
   ]
  },
  {
   "cell_type": "markdown",
   "metadata": {},
   "source": [
    "## Methoden\n",
    "\n",
    "### Das Wichtigste zusammengefasst\n",
    "\n",
    "Methodenaufrufe bestehen aus:\n",
    "* beliebigem Ausdruck (optional)\n",
    "* Trennung durch . oder :: (optional)\n",
    "* Methodenname\n",
    "* Argumentwerte\n",
    "* Optionaler Codeblock (siehe Iteratoren)\n",
    "\n",
    "Dabei gibt es folgendes zu beachten:\n",
    "* endet normal mit dem zuletzte ausgewerteten Wert\n",
    "* kann durch `raise` terminiert werden\n",
    "* Rückgabe durch `return` vor dem Ende möglich (ohne Ausdruck ist die Rückgabe `nil`)\n",
    "* Mehrere Rückgabewerte möglich\n",
    "* Ausnahmebehandlung mit `rescue`, `else` und `ensure`\n",
    "\n",
    "Besonderheiten:\n",
    "* Singelton Methode\n",
    "\n",
    "### Code Beispiele"
   ]
  },
  {
   "cell_type": "code",
   "execution_count": null,
   "metadata": {},
   "outputs": [],
   "source": [
    "# Mehrere Methoden Beispiele\n",
    "message = \"Ich bins\"\n",
    "a = [3, 2, 1, 0]\n",
    "\n",
    "puts message\n",
    "puts Math.sqrt(2)\n",
    "puts message.length\n",
    "a.each {|x| p x }"
   ]
  },
  {
   "cell_type": "code",
   "execution_count": null,
   "metadata": {},
   "outputs": [],
   "source": [
    "# Eigene Methode definieren\n",
    "def sprich(woerter)\n",
    "    puts woerter\n",
    "end\n",
    "\n",
    "sprich(\"Methode aufgerufen\")"
   ]
  },
  {
   "cell_type": "code",
   "execution_count": null,
   "metadata": {},
   "outputs": [],
   "source": [
    "# Ausnahme Methode\n",
    "def multiply(n)\n",
    "    raise \"Zahl ist negativ\" if n < 0\n",
    "    return \"Zahl 1\" if n == 1\n",
    "    n*n\n",
    "end\n",
    "\n",
    "return_posnbr(2)"
   ]
  },
  {
   "cell_type": "code",
   "execution_count": null,
   "metadata": {},
   "outputs": [],
   "source": [
    "# Singelton Methode für nur ein Objekt\n",
    "\n",
    "# tbd"
   ]
  },
  {
   "cell_type": "markdown",
   "metadata": {},
   "source": [
    "## Threads\n",
    "\n",
    "### Das Wichtigste zusammengefasst\n",
    "\n",
    "* tbd\n",
    "\n",
    "### Code Beispiele"
   ]
  },
  {
   "cell_type": "code",
   "execution_count": 62,
   "metadata": {},
   "outputs": [
    {
     "data": {
      "text/plain": [
       ":readfiles"
      ]
     },
     "execution_count": 62,
     "metadata": {},
     "output_type": "execute_result"
    }
   ],
   "source": [
    "def readfiles(filenames)\n",
    "    threads = filenames.map do |f|\n",
    "      Thread.new { File.read(f) }\n",
    "    end\n",
    "    threads.map {|t| t.value }\n",
    "end   "
   ]
  },
  {
   "cell_type": "markdown",
   "metadata": {},
   "source": [
    "### Quellen\n",
    "\n",
    "* Die Programmiersprache Ruby, David Flanagan, Yukihiro Matsumoto"
   ]
  }
 ],
 "metadata": {
  "kernelspec": {
   "display_name": "Ruby 2.7.0",
   "language": "ruby",
   "name": "ruby"
  },
  "language_info": {
   "file_extension": ".rb",
   "mimetype": "application/x-ruby",
   "name": "ruby",
   "version": "2.7.0"
  }
 },
 "nbformat": 4,
 "nbformat_minor": 2
}
