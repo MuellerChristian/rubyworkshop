{
 "cells": [
  {
   "cell_type": "markdown",
   "id": "fc3b53d7-99fd-4c7f-914c-6ab996fa6cfd",
   "metadata": {},
   "source": [
    "# Themenblock 1\n",
    "## Fallunterscheidung\n",
    "Beispiel einer if, elseif, else Fallunterscheidung mit Zeilenümbrüchen und then zur Wertzuweisung."
   ]
  },
  {
   "cell_type": "code",
   "execution_count": null,
   "id": "134b7aab-7cb7-49b2-87ee-7a6fadebd2cb",
   "metadata": {},
   "outputs": [],
   "source": [
    "x = 1\n",
    "\n",
    "if x == 1\n",
    "  name = \"eins\"\n",
    "elsif x == 2\n",
    "  name = \"zwei\"\n",
    "elsif x == 3 then name = \"drei\"\n",
    "elsif x == 4; name = \"vier\"\n",
    "else\n",
    "  name = \"viele\"\n",
    "end\n",
    "    \n",
    "puts name"
   ]
  },
  {
   "cell_type": "markdown",
   "id": "b6c871ae-3dc8-4a0d-a281-72524a60f269",
   "metadata": {},
   "source": [
    "# tbd"
   ]
  },
  {
   "cell_type": "code",
   "execution_count": null,
   "id": "0ebe0140-c58e-446b-b278-97a52494737c",
   "metadata": {},
   "outputs": [],
   "source": [
    "# code"
   ]
  }
 ],
 "metadata": {
  "kernelspec": {
   "display_name": "Ruby 2.7.0",
   "language": "ruby",
   "name": "ruby"
  },
  "language_info": {
   "file_extension": ".rb",
   "mimetype": "application/x-ruby",
   "name": "ruby",
   "version": "2.7.0"
  }
 },
 "nbformat": 4,
 "nbformat_minor": 5
}
