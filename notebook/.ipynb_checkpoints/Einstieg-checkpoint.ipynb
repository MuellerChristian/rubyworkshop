{
 "cells": [
  {
   "cell_type": "markdown",
   "id": "59468809-e229-4509-850c-c3143448c251",
   "metadata": {},
   "source": [
    "# Einstieg\n",
    "Einleitung in ruby mit Beispielaufgabe."
   ]
  },
  {
   "cell_type": "code",
   "execution_count": null,
   "id": "2d24db3a-78a9-4105-8387-1a575d4cc971",
   "metadata": {},
   "outputs": [],
   "source": [
    "# Einstieg in Ruby\n",
    "\n",
    "# Lösung der ersten kleinen Aufgabe\n",
    "\n",
    "# Möglichkeit 1\n",
    "9.downto(1) {|n| print n }\n",
    "puts \" Abflug!\"\n",
    "\n",
    "# Möglichkeit 2\n",
    "# Klammern sind hier nicht notwendig, ebensowenig spielt der Zeilenumbruch eine Rolle\n",
    "# Entscheident ist er Ausdruck \"end\", der den Block beendet\n",
    "9.downto(1) do |n|\n",
    "    print n\n",
    "end\n",
    "puts \" Abflug!\""
   ]
  }
 ],
 "metadata": {
  "kernelspec": {
   "display_name": "Ruby 2.7.0",
   "language": "ruby",
   "name": "ruby"
  },
  "language_info": {
   "file_extension": ".rb",
   "mimetype": "application/x-ruby",
   "name": "ruby",
   "version": "2.7.0"
  }
 },
 "nbformat": 4,
 "nbformat_minor": 5
}
