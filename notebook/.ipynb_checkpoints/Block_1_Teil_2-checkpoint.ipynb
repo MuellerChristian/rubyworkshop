{
 "cells": [
  {
   "cell_type": "markdown",
   "metadata": {},
   "source": [
    "# Themenblock 1 - Teil 2\n",
    "\n",
    "## Fallunterscheidungen\n",
    "\n",
    "### Das Wichtigste zusammengefasst\n",
    "\n",
    "* immer true, außer: false, nil\n",
    "* Zeilenumbruch, Semikolon oder Schlüsselwort then\n",
    "* Alles ist ein Ausdruck (Rückgabewert)\n",
    "* Auch mit case möglich\n",
    "* Anstatt elseif → when\n",
    "* Modifier: Code if Ausdruck\n",
    "* unless, das Gegenteil von if ohne elseif\n",
    "* ? Operator\n",
    "\n",
    "### Code Beispiele"
   ]
  },
  {
   "cell_type": "code",
   "execution_count": null,
   "metadata": {},
   "outputs": [],
   "source": [
    "# if, elseif, else Beispiel Zahl\n",
    "x = 3\n",
    "if x == 1\n",
    "    name = \"eins\"\n",
    "elsif x == 2\n",
    "    name = \"zwei\"\n",
    "elsif x == 3 then name = \"drei\"\n",
    "elsif x == 4; name = \"vier\"\n",
    "else\n",
    "    name = \"viele\"\n",
    "end "
   ]
  },
  {
   "cell_type": "code",
   "execution_count": null,
   "metadata": {},
   "outputs": [],
   "source": [
    "# if/else Modifier Beispiel Zahl\n",
    "name = if    x == 1 then \"eins\"\n",
    "       elsif x == 2 then \"zwei\"\n",
    "       elsif x == 3 then \"drei\"\n",
    "       elsif x == 4 then \"vier\"\n",
    "       else              \"viele\"\n",
    "       end"
   ]
  },
  {
   "cell_type": "code",
   "execution_count": null,
   "metadata": {},
   "outputs": [],
   "source": [
    "# case Modifier Beispiel Zahl\n",
    "name = case\n",
    "       when x == 1 then \"eins\"\n",
    "       when x == 2 then \"zwei\"\n",
    "       when x == 3 then \"drei\"\n",
    "       when x == 4 then \"vier\"\n",
    "       else             \"viele\"\n",
    "       end"
   ]
  },
  {
   "cell_type": "code",
   "execution_count": null,
   "metadata": {},
   "outputs": [],
   "source": [
    "# unless Beispiel Altersabfrage\n",
    "alter = 18\n",
    "\n",
    "unless alter >= 18\n",
    "    puts \"Nicht alt genug.\"\n",
    "end\n",
    "\n",
    "unless alter >= 18\n",
    "    puts \"Nicht alt genug.\"\n",
    "else\n",
    "    puts \"Alt genug.\"\n",
    "end\n",
    "\n",
    "puts \"Nicht alt genug.\" unless alter >= 18"
   ]
  },
  {
   "cell_type": "code",
   "execution_count": null,
   "metadata": {},
   "outputs": [],
   "source": [
    "# ? Operator Beispiel Anrufsbeantworter\n",
    "def how_many_messages(n)\n",
    "   \"Sie haben \" + n.to_s + (n==1 ? \" Nachricht.\" : \" Nachrichten.\")\n",
    "end\n",
    "\n",
    "how_many_messages(1)"
   ]
  },
  {
   "cell_type": "markdown",
   "metadata": {},
   "source": [
    "## Iteratoren und Enumeratoren\n",
    "\n",
    "### Das Wichtigste zusammengefasst\n",
    "\n",
    "* loop → Vorsicht endlos!!\n",
    "* Iteratoren, die nicht iterieren z. B. tab und File.open\n",
    "* m.upto(n), m.downto(n)\n",
    "* n.times → äquivalent zu 0.upto(n-1)\n",
    "* step(n, m)\n",
    "* .each\n",
    "* collect/map, select, reject und inject\n",
    "* Benutzerdefiniert mit yield\n",
    "\n",
    "### Code Beispiele"
   ]
  },
  {
   "cell_type": "code",
   "execution_count": null,
   "metadata": {},
   "outputs": [],
   "source": [
    "# while Schleife Beispiel Punktzahl\n",
    "erreichte_Punkte = 25\n",
    "min_Punkte = 30\n",
    "while erreichte_Punkte < min_Punkte do\n",
    "    puts \"Die zum bestehen notwendige Punktzahl ist noch nicht erreicht!\"\n",
    "    erreichte_Punkte += 1\n",
    "end"
   ]
  },
  {
   "cell_type": "code",
   "execution_count": null,
   "metadata": {},
   "outputs": [],
   "source": [
    "# until Schleife Beispiel Array leeren\n",
    "a = [1,2,3]\n",
    "puts \"#{a}\\n\"\n",
    "puts a.pop until a.empty?\n",
    "puts \"#{a}\\n\""
   ]
  },
  {
   "cell_type": "code",
   "execution_count": null,
   "metadata": {},
   "outputs": [],
   "source": [
    "# for Schleife Beispiel Wert der Variable\n",
    "for i in 0..5\n",
    "    puts \"Wert der lokalen Variable: #{i}\"\n",
    " end"
   ]
  },
  {
   "cell_type": "code",
   "execution_count": null,
   "metadata": {},
   "outputs": [],
   "source": [
    "# .each Beispiel mit Hash\n",
    "hash = {:a=>1, :b=>2, :c=>3}\n",
    "\n",
    "hash.each do |key,value|\n",
    "    puts \"#{key} => #{value}\"\n",
    "end"
   ]
  },
  {
   "cell_type": "markdown",
   "metadata": {},
   "source": [
    "**Weitere Details und Beispiele mit Enumeratoren:**"
   ]
  },
  {
   "cell_type": "code",
   "execution_count": null,
   "metadata": {},
   "outputs": [],
   "source": [
    "# Enumeratoren erstellen\n",
    "s = \"Hallo,\\nWie geht es dir?\\n\"\n",
    "\n",
    "s.to_enum(:each_line).each {|l| puts l}\n",
    "s.enum_for(:each_line).each {|l| puts l}"
   ]
  },
  {
   "cell_type": "code",
   "execution_count": null,
   "metadata": {},
   "outputs": [],
   "source": [
    "# Methoden mit einem Enumerator anstatt dem veränderlichen Array aufrufen\n",
    "data = \"hallo\"\n",
    "\n",
    "def process(s)\n",
    "    s.map {|c| c.succ }\n",
    "end\n",
    "\n",
    "process(data.each_char)"
   ]
  },
  {
   "cell_type": "code",
   "execution_count": null,
   "metadata": {},
   "outputs": [],
   "source": [
    "# numerische Iteratoren wie times, upto usw. geben einen Enumerator zurück\n",
    "data.chars.map {|c| c.succ}"
   ]
  },
  {
   "cell_type": "code",
   "execution_count": null,
   "metadata": {},
   "outputs": [],
   "source": [
    "# Konkurrierende Modifikation verhindern mit privater Kopie (.dup)\n",
    "process(data.dup.each_char)"
   ]
  },
  {
   "cell_type": "code",
   "execution_count": null,
   "metadata": {},
   "outputs": [],
   "source": [
    "# Externe Iteratoren\n",
    "iterator = 9.downto(1) \n",
    "begin\n",
    "    print iterator.next while true\n",
    "    rescue StopIteration # kann auch weggelassen werden\n",
    "    puts \"... Abflug!\"\n",
    "end"
   ]
  },
  {
   "cell_type": "markdown",
   "metadata": {},
   "source": [
    "## Blöcke\n",
    "\n",
    "### Das Wichtigste zusammengefasst\n",
    "\n",
    "* {} oder do/end → Blöcke können parametrisiert werden\n",
    "* Syntaxfehler bei Zeilenumbruch\n",
    "* next anstatt return oder besser nur if/else\n",
    "* Variablen innerhalb vs. außerhalb\n",
    "* Argumente an Block übergeben\n",
    "\n",
    "### Code Beispiele"
   ]
  },
  {
   "cell_type": "code",
   "execution_count": null,
   "metadata": {},
   "outputs": [],
   "source": [
    "# Beispiel Parametrisierung mit upto {}\n",
    "1.upto(10) {|x| puts x }"
   ]
  },
  {
   "cell_type": "code",
   "execution_count": null,
   "metadata": {},
   "outputs": [],
   "source": [
    "# Beispiel Parametrisierung mit upto do/end\n",
    "1.upto(10) do |x|\n",
    "    puts x\n",
    "end"
   ]
  },
  {
   "cell_type": "code",
   "execution_count": null,
   "metadata": {},
   "outputs": [],
   "source": [
    "# Beispiel next\n",
    "array = [4,5,6,7,2]\n",
    "array.collect do |x|\n",
    "    next 0 if x == nil\n",
    "    next x, x*x\n",
    "end   "
   ]
  },
  {
   "cell_type": "markdown",
   "metadata": {},
   "source": [
    "## Flow-of-Control\n",
    "return\n",
    "break\n",
    "next\n",
    "redo\n",
    "retry\n",
    "throw/catch\n",
    "\n"
   ]
  },
  {
   "cell_type": "markdown",
   "metadata": {},
   "source": [
    "### Quellen\n",
    "\n",
    "* Die Programmiersprache Ruby, David Flanagan, Yukihiro Matsumoto"
   ]
  }
 ],
 "metadata": {
  "kernelspec": {
   "display_name": "Ruby 2.7.0",
   "language": "ruby",
   "name": "ruby"
  },
  "language_info": {
   "file_extension": ".rb",
   "mimetype": "application/x-ruby",
   "name": "ruby",
   "version": "2.7.0"
  }
 },
 "nbformat": 4,
 "nbformat_minor": 2
}
