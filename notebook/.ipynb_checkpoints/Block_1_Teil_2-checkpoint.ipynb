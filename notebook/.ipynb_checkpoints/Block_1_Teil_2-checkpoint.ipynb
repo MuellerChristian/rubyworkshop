{
 "cells": [
  {
   "cell_type": "markdown",
   "metadata": {},
   "source": [
    "# Themenblock 1 - Teil 2\n",
    "\n",
    "## Fallunterscheidungen\n",
    "\n",
    "### Ruby Besonderheiten\n",
    "\n",
    "* immer true, außer: false, nil\n",
    "* Zeilenumbruch, Semikolon oder Schlüsselwort then\n",
    "* Alles ist ein Ausdruck (Rückgabewert)\n",
    "* Auch mit case möglich\n",
    "* Anstatt elseif → when\n",
    "* Modifier: Code if Ausdruck\n",
    "* unless, das Gegenteil von if ohne elseif\n",
    "* ? Operator\n",
    "\n",
    "### Code Beispiele"
   ]
  },
  {
   "cell_type": "code",
   "execution_count": 1,
   "metadata": {},
   "outputs": [
    {
     "data": {
      "text/plain": [
       "\"drei\""
      ]
     },
     "execution_count": 1,
     "metadata": {},
     "output_type": "execute_result"
    }
   ],
   "source": [
    "# if, elseif, else Beispiel Zahl\n",
    "x = 3\n",
    "if x == 1\n",
    "    name = \"eins\"\n",
    "elsif x == 2\n",
    "    name = \"zwei\"\n",
    "elsif x == 3 then name = \"drei\"\n",
    "elsif x == 4; name = \"vier\"\n",
    "else\n",
    "    name = \"viele\"\n",
    "end "
   ]
  },
  {
   "cell_type": "code",
   "execution_count": 2,
   "metadata": {},
   "outputs": [
    {
     "data": {
      "text/plain": [
       "\"drei\""
      ]
     },
     "execution_count": 2,
     "metadata": {},
     "output_type": "execute_result"
    }
   ],
   "source": [
    "# if/else Modifier Beispiel Zahl\n",
    "name = if    x == 1 then \"eins\"\n",
    "       elsif x == 2 then \"zwei\"\n",
    "       elsif x == 3 then \"drei\"\n",
    "       elsif x == 4 then \"vier\"\n",
    "       else              \"viele\"\n",
    "       end"
   ]
  },
  {
   "cell_type": "code",
   "execution_count": 3,
   "metadata": {},
   "outputs": [
    {
     "data": {
      "text/plain": [
       "\"drei\""
      ]
     },
     "execution_count": 3,
     "metadata": {},
     "output_type": "execute_result"
    }
   ],
   "source": [
    "# case Modifier Beispiel Zahl\n",
    "name = case\n",
    "       when x == 1 then \"eins\"\n",
    "       when x == 2 then \"zwei\"\n",
    "       when x == 3 then \"drei\"\n",
    "       when x == 4 then \"vier\"\n",
    "       else             \"viele\"\n",
    "       end"
   ]
  },
  {
   "cell_type": "code",
   "execution_count": 4,
   "metadata": {},
   "outputs": [
    {
     "name": "stdout",
     "output_type": "stream",
     "text": [
      "Alt genug.\n"
     ]
    }
   ],
   "source": [
    "# unless Beispiel Altersabfrage\n",
    "alter = 18\n",
    "\n",
    "unless alter >= 18\n",
    "    puts \"Nicht alt genug.\"\n",
    "end\n",
    "\n",
    "unless alter >= 18\n",
    "    puts \"Nicht alt genug.\"\n",
    "else\n",
    "    puts \"Alt genug.\"\n",
    "end\n",
    "\n",
    "puts \"Nicht alt genug.\" unless alter >= 18"
   ]
  },
  {
   "cell_type": "code",
   "execution_count": 5,
   "metadata": {},
   "outputs": [
    {
     "data": {
      "text/plain": [
       "\"Sie haben 1 Nachricht.\""
      ]
     },
     "execution_count": 5,
     "metadata": {},
     "output_type": "execute_result"
    }
   ],
   "source": [
    "# ? Operator Beispiel Anrufsbeantworter\n",
    "def how_many_messages(n)\n",
    "   \"Sie haben \" + n.to_s + (n==1 ? \" Nachricht.\" : \" Nachrichten.\")\n",
    "end\n",
    "\n",
    "how_many_messages(1)"
   ]
  },
  {
   "cell_type": "markdown",
   "metadata": {},
   "source": [
    "## Iteratoren und Enumeratoren\n",
    "\n",
    "### Ruby Besonderheiten\n",
    "\n",
    "* loop → Vorsicht endlos!!\n",
    "* Iteratoren, die nicht iterieren z. B. tab und File.open\n",
    "* m.upto(n), m.downto(n)\n",
    "* n.times → äquivalent zu 0.upto(n-1)\n",
    "* step(n, m)\n",
    "* .each\n",
    "* collect/map, select, reject und inject\n",
    "* Benutzerdefiniert mit yield\n",
    "\n",
    "### Code Beispiele"
   ]
  },
  {
   "cell_type": "code",
   "execution_count": 6,
   "metadata": {},
   "outputs": [
    {
     "name": "stdout",
     "output_type": "stream",
     "text": [
      "Die zum bestehen notwendige Punktzahl ist noch nicht erreicht!\n",
      "Die zum bestehen notwendige Punktzahl ist noch nicht erreicht!\n",
      "Die zum bestehen notwendige Punktzahl ist noch nicht erreicht!\n",
      "Die zum bestehen notwendige Punktzahl ist noch nicht erreicht!\n",
      "Die zum bestehen notwendige Punktzahl ist noch nicht erreicht!\n"
     ]
    }
   ],
   "source": [
    "# while Schleife Beispiel Punktzahl\n",
    "erreichte_Punkte = 25\n",
    "min_Punkte = 30\n",
    "while erreichte_Punkte < min_Punkte do\n",
    "    puts \"Die zum bestehen notwendige Punktzahl ist noch nicht erreicht!\"\n",
    "    erreichte_Punkte += 1\n",
    "end"
   ]
  },
  {
   "cell_type": "code",
   "execution_count": 7,
   "metadata": {},
   "outputs": [
    {
     "name": "stdout",
     "output_type": "stream",
     "text": [
      "3\n",
      "2\n",
      "1\n"
     ]
    }
   ],
   "source": [
    "# until Schleife Beispiel Array leeren\n",
    "a = [1,2,3]\n",
    "puts a.pop until a.empty?"
   ]
  },
  {
   "cell_type": "code",
   "execution_count": null,
   "metadata": {},
   "outputs": [],
   "source": []
  },
  {
   "cell_type": "code",
   "execution_count": null,
   "metadata": {},
   "outputs": [],
   "source": []
  },
  {
   "cell_type": "code",
   "execution_count": null,
   "metadata": {},
   "outputs": [],
   "source": []
  },
  {
   "cell_type": "code",
   "execution_count": null,
   "metadata": {},
   "outputs": [],
   "source": []
  }
 ],
 "metadata": {
  "kernelspec": {
   "display_name": "Ruby 2.7.0",
   "language": "ruby",
   "name": "ruby"
  },
  "language_info": {
   "file_extension": ".rb",
   "mimetype": "application/x-ruby",
   "name": "ruby",
   "version": "2.7.0"
  }
 },
 "nbformat": 4,
 "nbformat_minor": 2
}
