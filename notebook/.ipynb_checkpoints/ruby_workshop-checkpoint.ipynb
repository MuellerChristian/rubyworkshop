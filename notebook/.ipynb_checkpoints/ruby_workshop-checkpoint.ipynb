{
 "cells": [
  {
   "cell_type": "markdown",
   "id": "fc3b53d7-99fd-4c7f-914c-6ab996fa6cfd",
   "metadata": {},
   "source": [
    "# Ruby Workshop\n",
    "\n",
    "Hochschule Mannheim\n",
    "mybinder Link: https://notebooks.gesis.org/binder/jupyter/user/otiofrui-rubyworkshop-djvufxdz/lab\n"
   ]
  },
  {
   "cell_type": "markdown",
   "id": "a8f1a72c-dd2a-4fd3-82bf-dc8f7ce9c820",
   "metadata": {},
   "source": [
    "## Themenblock 1\n",
    "Viele der folgenden Dinge sind sehr ähnlich zu anderen Programmiersprachen, dennoch weißt Ruby einige Besonderheiten auf, die wir hier besonders hervorheben wollen."
   ]
  },
  {
   "cell_type": "markdown",
   "id": "212e0f29-2f65-4309-ac78-1a504ecd5bb8",
   "metadata": {},
   "source": [
    "## Teil 1"
   ]
  },
  {
   "cell_type": "markdown",
   "id": "75d484eb-2ae9-4b55-aa37-be23c4b03794",
   "metadata": {},
   "source": [
    "## Teil 2"
   ]
  },
  {
   "cell_type": "markdown",
   "id": "89b5c9f6-e73a-4ea6-aff1-92acd4400746",
   "metadata": {},
   "source": [
    "### Methodendefinition und -aufruf\n",
    "Eine Methode ist ein benannter Block von parametrisiertem Code, der mit einem oder mehreren Objekten verknüpft ist. Der Unterschied zu einem Block ist die Deklaration eines Methodennamen."
   ]
  },
  {
   "cell_type": "markdown",
   "id": "365acd01-bc80-4233-8736-28412e7666ea",
   "metadata": {},
   "source": [
    "Methodenaufrufe bestehen aus:\n",
    "* beliebigem Ausdruck (optional)\n",
    "* Trennung durch . oder :: (optional)\n",
    "* Methodenname\n",
    "* Argumentwerte\n",
    "* Optionaler Codeblock (siehe Iteratoren)\n",
    "Nachfolgend einige Beispiele zum ausprobieren (puts wird hier zusätzlich verwendet, um eine Ausgabe zu erzeugen):"
   ]
  },
  {
   "cell_type": "code",
   "execution_count": null,
   "id": "83558468-eb78-4f20-bbfd-e89eee9fbecf",
   "metadata": {},
   "outputs": [],
   "source": [
    "message = \"Ich bins\"\n",
    "a = [3, 2, 1, 0]\n",
    "\n",
    "puts message\n",
    "puts Math.sqrt(2)\n",
    "puts message.length\n",
    "a.each {|x| p x }"
   ]
  },
  {
   "cell_type": "markdown",
   "id": "ec038487-4537-4dd9-82e0-a2611cccb3c4",
   "metadata": {},
   "source": [
    "Eigene Methoden werden wie folgt definiert:"
   ]
  },
  {
   "cell_type": "code",
   "execution_count": null,
   "id": "009b38b4-b69a-4975-8ba5-0a13075412fb",
   "metadata": {},
   "outputs": [],
   "source": [
    "def sprich(woerter)\n",
    "    puts woerter\n",
    "end\n",
    "\n",
    "sprich(\"Methode aufgerufen\")"
   ]
  },
  {
   "cell_type": "markdown",
   "id": "03bf56f7-85de-4bc5-9e67-0ee83f3a8948",
   "metadata": {},
   "source": [
    "Dabei gibt es folgendes zu beachten:\n",
    "* endet normal mit dem zuletzte ausgewerteten Wert\n",
    "* kann durch `raise` terminiert werden\n",
    "* Rückgabe durch `return` vor dem Ende möglich (ohne Ausdruck ist die Rückgabe `nil`)\n",
    "* Mehrere Rückgabewerte möglich\n",
    "* Ausnahmebehandlung mit `rescue`, `else` und `ensure`\n",
    "\n",
    "An dieser Stelle nochmal ein Beispiel hierzu:"
   ]
  },
  {
   "cell_type": "code",
   "execution_count": 33,
   "id": "88d21ba4-d898-4dbb-af47-c66883383cde",
   "metadata": {},
   "outputs": [
    {
     "data": {
      "text/plain": [
       "4"
      ]
     },
     "execution_count": 33,
     "metadata": {},
     "output_type": "execute_result"
    }
   ],
   "source": [
    "def multiply(n)\n",
    "    raise \"Zahl ist negativ\" if n < 0\n",
    "    return \"Zahl 1\" if n == 1\n",
    "    n*n\n",
    "end\n",
    "\n",
    "return_posnbr(2)"
   ]
  },
  {
   "cell_type": "markdown",
   "id": "c518c632-b687-4c76-be25-51fbe3a775fb",
   "metadata": {},
   "source": [
    "Besonderheiten:\n",
    "* Singelton Methode für nur ein Objekt"
   ]
  },
  {
   "cell_type": "code",
   "execution_count": null,
   "id": "a754f5df-474a-4d26-a538-3846530446f3",
   "metadata": {},
   "outputs": [],
   "source": []
  }
 ],
 "metadata": {
  "kernelspec": {
   "display_name": "Ruby 2.7.0",
   "language": "ruby",
   "name": "ruby"
  },
  "language_info": {
   "file_extension": ".rb",
   "mimetype": "application/x-ruby",
   "name": "ruby",
   "version": "2.7.0"
  }
 },
 "nbformat": 4,
 "nbformat_minor": 5
}
