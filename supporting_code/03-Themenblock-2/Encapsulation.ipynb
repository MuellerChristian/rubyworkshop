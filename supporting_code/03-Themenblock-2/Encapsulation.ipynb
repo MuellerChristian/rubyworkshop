{
 "cells": [
  {
   "cell_type": "markdown",
   "id": "2e32e148-3210-4597-ab9c-9ca2ede914f7",
   "metadata": {},
   "source": [
    "# Beispiele - Encapsulation"
   ]
  },
  {
   "cell_type": "markdown",
   "id": "bbd78554-531e-4111-93f0-8bf84f914ca0",
   "metadata": {},
   "source": [
    "## Public Methods"
   ]
  },
  {
   "cell_type": "markdown",
   "id": "c4d5f41e-36a0-4533-a5ab-e727b83e3f6e",
   "metadata": {},
   "source": [
    "Das Standard Level von Methoden in Ruby Klassen ist Public. Entsprechend sind Methoden für Klassen oder attr_-Methoden ebenfalls public.\n",
    "Variablen sind standardmäßig private. Definiert man jedoch eine Methode zum Aufruf der Variablen, ist die Methode hierfür standardmäßig auch public.\n",
    "\n",
    "Verdeutlichen wir und das einmal an einem Code-Beispiel."
   ]
  },
  {
   "cell_type": "markdown",
   "id": "0a570ad2-3732-4161-93d0-02f69fc3bad5",
   "metadata": {},
   "source": [
    "### Zugriff ohne Methode"
   ]
  },
  {
   "cell_type": "code",
   "execution_count": null,
   "id": "f55c3ea1-9f92-417c-a070-52cd799ad8ad",
   "metadata": {},
   "outputs": [],
   "source": [
    "### ohne Methode\n",
    "\n",
    "class Test\n",
    "  def initialize(name)\n",
    "    @name = name\n",
    "  end\n",
    "end\n",
    "\n",
    "u = Test.new(\"Olaf\")\n",
    "print(u.name)"
   ]
  },
  {
   "cell_type": "code",
   "execution_count": null,
   "id": "3967771c-1f5b-44d0-8e42-f1f53d8dbebc",
   "metadata": {},
   "outputs": [],
   "source": []
  },
  {
   "cell_type": "markdown",
   "id": "7802de3c-6f52-44f7-b668-f509073c4eb2",
   "metadata": {},
   "source": [
    "### Zugriff mit Methode"
   ]
  },
  {
   "cell_type": "code",
   "execution_count": null,
   "id": "49c15bae-8faf-46bc-aff6-867fb8514e92",
   "metadata": {},
   "outputs": [],
   "source": [
    "### mit Methode\n",
    "class Test\n",
    "  def initialize(name)\n",
    "    @name = name\n",
    "  end\n",
    "  def name\n",
    "    @name\n",
    "  end\n",
    "end\n",
    "\n",
    "u = Test.new(\"Olaf\")\n",
    "print(u.name)"
   ]
  },
  {
   "cell_type": "code",
   "execution_count": null,
   "id": "e76c7d73-d89d-4463-806a-5af4dd629a5c",
   "metadata": {},
   "outputs": [],
   "source": []
  },
  {
   "cell_type": "markdown",
   "id": "59e3717a-c543-4340-8a74-8f972b0553f2",
   "metadata": {},
   "source": [
    "Wie wir sehen konnten, ist ein Zugriff direkt auf die Variable nicht möglich. Definieren wir jedoch eine Methode, die "
   ]
  }
 ],
 "metadata": {
  "kernelspec": {
   "display_name": "Ruby 3.0.2",
   "language": "ruby",
   "name": "ruby"
  },
  "language_info": {
   "file_extension": ".rb",
   "mimetype": "application/x-ruby",
   "name": "ruby",
   "version": "3.0.2"
  }
 },
 "nbformat": 4,
 "nbformat_minor": 5
}
